{
 "cells": [
  {
   "cell_type": "markdown",
   "metadata": {},
   "source": [
    "# Excercise 1\n",
    "Use markdown to sum up with bullut points what you like to learn"
   ]
  },
  {
   "cell_type": "code",
   "execution_count": null,
   "metadata": {},
   "outputs": [],
   "source": []
  },
  {
   "cell_type": "markdown",
   "metadata": {},
   "source": [
    "# Excercise 2\n",
    "Whenever you are experimenting with a new feature, you should try to make mistakes. For example,\n",
    "in the “Hello, world!” program, what happens if you leave out one of the quotation marks? What if\n",
    "you leave out both? What if you spell print wrong?\n",
    "This kind of experiment helps you remember what you read; it also helps when you are programming,\n",
    "because you get to know what the error messages mean. It is better to make mistakes now and on\n",
    "purpose than later and accidentally. So go a head and try out:\n",
    "1. In a print statement, what happens if you leave out one of the parenthesis, or both?\n",
    "    * parenthesis are ( ) \n",
    "2. If you are trying to print a string, what happens if you leave out one of the quotation marks,\n",
    "or both?\n",
    "    * Quotation marks are ' \"\n",
    "3. You can use a minus sign to make a negative number like -2. What happens if you put a plus\n",
    "sign before a number? What about 2++2?\n",
    "8 Chapter 1. The way of the program\n",
    "4. What happens if you have two values with no operator between them\n",
    "    * operators are + - / *"
   ]
  },
  {
   "cell_type": "code",
   "execution_count": 2,
   "metadata": {},
   "outputs": [
    {
     "name": "stdout",
     "output_type": "stream",
     "text": [
      "Hello world\n"
     ]
    }
   ],
   "source": [
    "print(\"Hello world\")"
   ]
  },
  {
   "cell_type": "code",
   "execution_count": null,
   "metadata": {},
   "outputs": [],
   "source": []
  },
  {
   "cell_type": "markdown",
   "metadata": {},
   "source": [
    "# Excercise 3\n",
    "Use python as it as a calculator. Don't forget print statements\n",
    "1. Assign 60 to minutes and calculate, with making use of the variable how many seconds are there in 42 minutes 42 seconds?\n",
    "2. How many miles are there in 10 kilometers? Hint: there are 1.61 kilometers in a mile, use a comment to explain what your calculating"
   ]
  },
  {
   "cell_type": "code",
   "execution_count": null,
   "metadata": {},
   "outputs": [],
   "source": []
  },
  {
   "cell_type": "code",
   "execution_count": null,
   "metadata": {},
   "outputs": [],
   "source": []
  },
  {
   "cell_type": "markdown",
   "metadata": {},
   "source": [
    "# Excercise 4\n",
    "1. Create a list of 5 colours, the data type of every element in list is a string\n",
    "2. Add a colour to your list, use the + operator\n",
    "3. Change the second colour to \"white with a purple round\"\n",
    "4. Display the third item of the list, remember, python starts at 0\n",
    "5. Display the first and last colours from the list\n",
    "6. Add an exclamation mark to every colour in the list, print all the colours on a new line and make use of a loop\n"
   ]
  },
  {
   "cell_type": "code",
   "execution_count": null,
   "metadata": {},
   "outputs": [],
   "source": []
  },
  {
   "cell_type": "code",
   "execution_count": null,
   "metadata": {},
   "outputs": [],
   "source": []
  },
  {
   "cell_type": "code",
   "execution_count": null,
   "metadata": {},
   "outputs": [],
   "source": []
  },
  {
   "cell_type": "code",
   "execution_count": null,
   "metadata": {},
   "outputs": [],
   "source": []
  },
  {
   "cell_type": "code",
   "execution_count": null,
   "metadata": {},
   "outputs": [],
   "source": []
  },
  {
   "cell_type": "code",
   "execution_count": null,
   "metadata": {},
   "outputs": [],
   "source": []
  },
  {
   "cell_type": "markdown",
   "metadata": {},
   "source": [
    "# Excercise 5\n",
    "- Ask the user for his or her name\n",
    "- Assign the name to an variable\n",
    "- Greet the user with: Hello {username} !\n",
    "- Hint: do not forget to use print \n",
    "- Hint: use the The input() function"
   ]
  },
  {
   "cell_type": "code",
   "execution_count": null,
   "metadata": {},
   "outputs": [],
   "source": []
  },
  {
   "cell_type": "markdown",
   "metadata": {},
   "source": [
    "# Bonus\n",
    "Write a Python program to calculate number of days between two dates\n",
    "- Sample dates : (2020, 7, 2), (2020, 7, 11)\n",
    "- Expected output : 9 days\n",
    "- Hint: `from datetime import date`"
   ]
  },
  {
   "cell_type": "code",
   "execution_count": null,
   "metadata": {},
   "outputs": [],
   "source": []
  }
 ],
 "metadata": {
  "kernelspec": {
   "display_name": "Python 3",
   "language": "python",
   "name": "python3"
  },
  "language_info": {
   "codemirror_mode": {
    "name": "ipython",
    "version": 3
   },
   "file_extension": ".py",
   "mimetype": "text/x-python",
   "name": "python",
   "nbconvert_exporter": "python",
   "pygments_lexer": "ipython3",
   "version": "3.7.6"
  }
 },
 "nbformat": 4,
 "nbformat_minor": 2
}
